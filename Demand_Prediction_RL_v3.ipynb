{
  "nbformat": 4,
  "nbformat_minor": 0,
  "metadata": {
    "colab": {
      "name": "Demand_Prediction_RL v3.ipynb",
      "provenance": [],
      "collapsed_sections": [],
      "include_colab_link": true
    },
    "kernelspec": {
      "name": "python3",
      "display_name": "Python 3"
    },
    "accelerator": "GPU"
  },
  "cells": [
    {
      "cell_type": "markdown",
      "metadata": {
        "id": "view-in-github",
        "colab_type": "text"
      },
      "source": [
        "<a href=\"https://colab.research.google.com/github/ConSeanway/BusinessGameRL/blob/master/Demand_Prediction_RL_v3.ipynb\" target=\"_parent\"><img src=\"https://colab.research.google.com/assets/colab-badge.svg\" alt=\"Open In Colab\"/></a>"
      ]
    },
    {
      "cell_type": "code",
      "metadata": {
        "id": "MCc7IesMm_Nc",
        "colab_type": "code",
        "outputId": "e23ac19f-a2a9-41e4-cd31-d19c6d15939b",
        "colab": {
          "base_uri": "https://localhost:8080/",
          "height": 521
        }
      },
      "source": [
        "%tensorflow_version 1.x\n",
        "!pip install stable-baselines[mpi]==2.10.0"
      ],
      "execution_count": 0,
      "outputs": [
        {
          "output_type": "stream",
          "text": [
            "TensorFlow 1.x selected.\n",
            "Collecting stable-baselines[mpi]==2.10.0\n",
            "\u001b[?25l  Downloading https://files.pythonhosted.org/packages/e5/fe/db8159d4d79109c6c8942abe77c7ba6b6e008c32ae55870a35e73fa10db3/stable_baselines-2.10.0-py3-none-any.whl (248kB)\n",
            "\u001b[K     |████████████████████████████████| 256kB 2.8MB/s \n",
            "\u001b[?25hRequirement already satisfied: joblib in /usr/local/lib/python3.6/dist-packages (from stable-baselines[mpi]==2.10.0) (0.15.1)\n",
            "Requirement already satisfied: scipy in /usr/local/lib/python3.6/dist-packages (from stable-baselines[mpi]==2.10.0) (1.4.1)\n",
            "Requirement already satisfied: numpy in /usr/local/lib/python3.6/dist-packages (from stable-baselines[mpi]==2.10.0) (1.18.5)\n",
            "Requirement already satisfied: cloudpickle>=0.5.5 in /usr/local/lib/python3.6/dist-packages (from stable-baselines[mpi]==2.10.0) (1.3.0)\n",
            "Requirement already satisfied: pandas in /usr/local/lib/python3.6/dist-packages (from stable-baselines[mpi]==2.10.0) (1.0.4)\n",
            "Requirement already satisfied: opencv-python in /usr/local/lib/python3.6/dist-packages (from stable-baselines[mpi]==2.10.0) (4.1.2.30)\n",
            "Requirement already satisfied: matplotlib in /usr/local/lib/python3.6/dist-packages (from stable-baselines[mpi]==2.10.0) (3.2.1)\n",
            "Requirement already satisfied: gym[atari,classic_control]>=0.11 in /usr/local/lib/python3.6/dist-packages (from stable-baselines[mpi]==2.10.0) (0.17.2)\n",
            "Requirement already satisfied: mpi4py; extra == \"mpi\" in /tensorflow-1.15.2/python3.6 (from stable-baselines[mpi]==2.10.0) (3.0.3)\n",
            "Requirement already satisfied: python-dateutil>=2.6.1 in /usr/local/lib/python3.6/dist-packages (from pandas->stable-baselines[mpi]==2.10.0) (2.8.1)\n",
            "Requirement already satisfied: pytz>=2017.2 in /usr/local/lib/python3.6/dist-packages (from pandas->stable-baselines[mpi]==2.10.0) (2018.9)\n",
            "Requirement already satisfied: cycler>=0.10 in /usr/local/lib/python3.6/dist-packages (from matplotlib->stable-baselines[mpi]==2.10.0) (0.10.0)\n",
            "Requirement already satisfied: kiwisolver>=1.0.1 in /usr/local/lib/python3.6/dist-packages (from matplotlib->stable-baselines[mpi]==2.10.0) (1.2.0)\n",
            "Requirement already satisfied: pyparsing!=2.0.4,!=2.1.2,!=2.1.6,>=2.0.1 in /usr/local/lib/python3.6/dist-packages (from matplotlib->stable-baselines[mpi]==2.10.0) (2.4.7)\n",
            "Requirement already satisfied: pyglet<=1.5.0,>=1.4.0 in /usr/local/lib/python3.6/dist-packages (from gym[atari,classic_control]>=0.11->stable-baselines[mpi]==2.10.0) (1.5.0)\n",
            "Requirement already satisfied: atari-py~=0.2.0; extra == \"atari\" in /usr/local/lib/python3.6/dist-packages (from gym[atari,classic_control]>=0.11->stable-baselines[mpi]==2.10.0) (0.2.6)\n",
            "Requirement already satisfied: Pillow; extra == \"atari\" in /usr/local/lib/python3.6/dist-packages (from gym[atari,classic_control]>=0.11->stable-baselines[mpi]==2.10.0) (7.0.0)\n",
            "Requirement already satisfied: six>=1.5 in /usr/local/lib/python3.6/dist-packages (from python-dateutil>=2.6.1->pandas->stable-baselines[mpi]==2.10.0) (1.12.0)\n",
            "Requirement already satisfied: future in /usr/local/lib/python3.6/dist-packages (from pyglet<=1.5.0,>=1.4.0->gym[atari,classic_control]>=0.11->stable-baselines[mpi]==2.10.0) (0.16.0)\n",
            "Installing collected packages: stable-baselines\n",
            "  Found existing installation: stable-baselines 2.2.1\n",
            "    Uninstalling stable-baselines-2.2.1:\n",
            "      Successfully uninstalled stable-baselines-2.2.1\n",
            "Successfully installed stable-baselines-2.10.0\n"
          ],
          "name": "stdout"
        }
      ]
    },
    {
      "cell_type": "code",
      "metadata": {
        "id": "aSWCe3o5rtSJ",
        "colab_type": "code",
        "outputId": "eaefee3e-fb09-48bf-9644-708a444b0564",
        "colab": {
          "base_uri": "https://localhost:8080/",
          "height": 155
        }
      },
      "source": [
        "import numpy as np\n",
        "import matplotlib.pyplot as plt\n",
        "%matplotlib inline\n",
        "import matplotlib\n",
        "from math import exp\n",
        "from math import sqrt\n",
        "from math import log\n",
        "import torch\n",
        "import torch.nn as nn\n",
        "import torch.nn.functional as F\n",
        "import torch.optim as optim\n",
        "from torch.distributions import Categorical\n",
        "import gym\n",
        "from gym import spaces\n",
        "from stable_baselines.common.env_checker import check_env\n",
        "from stable_baselines.common.policies import MlpPolicy\n",
        "from stable_baselines.common.policies import MlpLnLstmPolicy\n",
        "from stable_baselines.common.vec_env import DummyVecEnv\n",
        "from stable_baselines import PPO2\n",
        "from stable_baselines import TRPO\n",
        "from stable_baselines import results_plotter\n",
        "import statistics\n",
        "import random\n",
        "from stable_baselines.common import make_vec_env\n",
        "from stable_baselines import A2C\n",
        "from stable_baselines import SAC"
      ],
      "execution_count": 0,
      "outputs": [
        {
          "output_type": "stream",
          "text": [
            "WARNING:tensorflow:\n",
            "The TensorFlow contrib module will not be included in TensorFlow 2.0.\n",
            "For more information, please see:\n",
            "  * https://github.com/tensorflow/community/blob/master/rfcs/20180907-contrib-sunset.md\n",
            "  * https://github.com/tensorflow/addons\n",
            "  * https://github.com/tensorflow/io (for I/O related ops)\n",
            "If you depend on functionality not listed there, please file an issue.\n",
            "\n"
          ],
          "name": "stdout"
        }
      ]
    },
    {
      "cell_type": "code",
      "metadata": {
        "id": "9jaJesvbs4Gn",
        "colab_type": "code",
        "outputId": "dbdbfae8-35c7-4e21-af86-7ca22f6f0033",
        "colab": {
          "base_uri": "https://localhost:8080/",
          "height": 106
        }
      },
      "source": [
        "class CustomEnv(gym.Env):\n",
        "\n",
        "  def __init__(self, INIT_BALANCE=0, discRate=0.02, maxPeriods=12):\n",
        "    super(CustomEnv, self).__init__()\n",
        "\n",
        "    self.capacity = 150\n",
        "    self.maxPrice = 75\n",
        "\n",
        "    #defines action space as a continuous element that ranges from 0 to 75\n",
        "    self.action_space = spaces.Box(low=np.array([0, 0]), high=np.array([1, 1]),shape = (2,),dtype=np.float32) \n",
        "\n",
        "    # Params we are observing:  time, reward, our price, team 2 price, team 3 price, team 4 price, our units ordered\n",
        "    self.observation_space = spaces.Box(low=np.array([0, -10000, 0, 0, 0, 0, 0]), high=np.array([6, 10000, 75, 75, 75, 75, self.capacity]), shape=(7,), dtype=np.float32)\n",
        "    self.stockoutCost = 20\n",
        "    self.holdingCost = 3\n",
        "\n",
        "    self.mfgUnitCost = 6\n",
        "\n",
        "    self.time = 1\n",
        "    \n",
        "    #define maximum number of periods to be 1\n",
        "    self.maxPeriods = 4\n",
        "\n",
        "    self.reset()\n",
        "\n",
        "  def step(self, action):\n",
        "\n",
        "    # Interpret the action array\n",
        "    agentPrice = action[0] * self.maxPrice\n",
        "    unitsManufactured = action[1] * self.capacity\n",
        "\n",
        "    # Compute other team's prices\n",
        "    otherTeamPrice = 65 - 5 * self.time\n",
        "    walmartTeamPrice = 15\n",
        "    panicTeamPrice = 80 - 10 * self.time\n",
        "\n",
        "    # Create the price array based out of what team's prices we have available\n",
        "    priceArr = [agentPrice, otherTeamPrice, walmartTeamPrice, panicTeamPrice]\n",
        "\n",
        "    meanPrice = statistics.mean(priceArr)\n",
        "    meanDemand = max((75 * len(priceArr)) - (len(priceArr)) * (min(priceArr)), 0)\n",
        "    totalDemand = meanDemand\n",
        "\n",
        "    # Allocate demand percentages and determine agent one's demand\n",
        "    demandPct = []\n",
        "    demandPct = self.weightedRank(priceArr)\n",
        "\n",
        "    agentOneDemand = demandPct[0] * totalDemand\n",
        "\n",
        "    # Revenue is computed as the demand times the price\n",
        "    revenue = min(agentOneDemand * agentPrice, unitsManufactured * agentPrice)\n",
        "\n",
        "    # Compute costs\n",
        "    variableCost = unitsManufactured * self.mfgUnitCost\n",
        "    invCost = max(self.holdingCost * (unitsManufactured - agentOneDemand), 0) + max(self.stockoutCost * (agentOneDemand - unitsManufactured), 0)\n",
        "    fixedCost = 1500\n",
        "    totalCost = variableCost + invCost + fixedCost\n",
        "\n",
        "    # Reward in this case is profit\n",
        "    reward = revenue - totalCost    \n",
        "\n",
        "    self.state = np.array([self.time, reward, agentPrice, otherTeamPrice, walmartTeamPrice, panicTeamPrice, unitsManufactured]).astype(np.float32)\n",
        "\n",
        "    self.time +=1\n",
        "\n",
        "    return self.state, reward,self.time > self.maxPeriods,{}\n",
        "  \n",
        "  def reset(self):\n",
        "    self.state = np.array([0, 0, 0, 0, 0, 0, 0]).astype(np.float32)\n",
        "    self.time = 1 # initial time is zero\n",
        "    #self.balance = self.INIT_BALANCE # Initial cash balance is 0\n",
        "    return self.state\n",
        "    # reward, done, info can't be included\n",
        "\n",
        "\n",
        "\n",
        "  def weightedRank(self, inputArray):\n",
        "    # Convert the array so that the minimum value is 1\n",
        "    direction = -1\n",
        "    currArray = inputArray\n",
        "\n",
        "    avg = np.mean(currArray)\n",
        "    stDev = np.std(currArray)\n",
        "\n",
        "    # Standardize/normalize values\n",
        "    for i in range(len(currArray)):\n",
        "      if stDev > 0:\n",
        "        currArray[i] = direction * (currArray[i] - avg) / stDev\n",
        "      else:\n",
        "        currArray[i] = 0\n",
        "\n",
        "\n",
        "    # Make sure all entries are shifted to some value greater than 1\n",
        "    if min(currArray) < 1:\n",
        "      currArray = [z + (1.1 - min(currArray)) for z in currArray]\n",
        "      #print(\"version 1 currAarray\",currArray)\n",
        "\n",
        "    # run the log function to simulate diseconomies of scale\n",
        "    for i in range(len(currArray)):\n",
        "      currArray[i] = log(currArray[i])\n",
        "\n",
        "    # Conver the logged result into a percentage, then return the array\n",
        "    pctArray = []\n",
        "    for i in range(len(currArray)):\n",
        "      #print(\"marketshare: \",currArray[i] / sum(currArray))\n",
        "      pctArray.append(currArray[i] / sum(currArray))\n",
        "\n",
        "    '''\n",
        "    #Turns percentage into cumulative percentage; then scale the values to range \n",
        "    cumuPerArray = []\n",
        "    cumuValue = 0\n",
        "    scaleValue = 0\n",
        "    for j in range(len(currArray)):\n",
        "      cumuValue = cumuValue+currArray[i]\n",
        "      scaleValue = cumuValue*self.maxPrice\n",
        "\n",
        "      cumuPerArray.append(scaleValue)\n",
        "\n",
        "    #Adjust the values to the lower bound\n",
        "    if min(currArray)<self.minPrice:\n",
        "      currArray = [m + self.minPrice-min(currArray) for m in currArray]\n",
        "\n",
        "    print(\"end of period\")\n",
        "    '''\n",
        "\n",
        "    return pctArray\n",
        "\n",
        "env = CustomEnv()\n",
        "check_env(env)    "
      ],
      "execution_count": 0,
      "outputs": [
        {
          "output_type": "stream",
          "text": [
            "/usr/local/lib/python3.6/dist-packages/gym/logger.py:30: UserWarning: \u001b[33mWARN: Box bound precision lowered by casting to float32\u001b[0m\n",
            "  warnings.warn(colorize('%s: %s'%('WARN', msg % args), 'yellow'))\n",
            "/usr/local/lib/python3.6/dist-packages/stable_baselines/common/env_checker.py:210: UserWarning: We recommend you to use a symmetric and normalized Box action space (range=[-1, 1]) cf https://stable-baselines.readthedocs.io/en/master/guide/rl_tips.html\n",
            "  warnings.warn(\"We recommend you to use a symmetric and normalized Box action space (range=[-1, 1]) \"\n"
          ],
          "name": "stderr"
        }
      ]
    },
    {
      "cell_type": "code",
      "metadata": {
        "id": "gvixXjr7Kduf",
        "colab_type": "code",
        "outputId": "8ae842ea-8186-4ef6-83b6-66e015552e46",
        "colab": {
          "base_uri": "https://localhost:8080/",
          "height": 276
        }
      },
      "source": [
        "\n",
        "game = CustomEnv()\n",
        "\n",
        "obs = game.reset()\n",
        "\n",
        "totalReward = 0\n",
        "\n",
        "n_steps = 20\n",
        "for step in range(n_steps):\n",
        "  print(\"Step {}\".format(step + 1))\n",
        "  #action = game.action_space.sample()\n",
        "  priceSet = 1\n",
        "  unitsMfg = 0\n",
        "  action = [priceSet, unitsMfg]\n",
        "  obs, reward, done, info = game.step(action)\n",
        "  print('obs=', obs, 'reward=', reward, 'action=', action,'done=', done)\n",
        "  totalReward += reward\n",
        "  if done:\n",
        "    print(\"Goal reached!\", \"reward=\", reward)\n",
        "    print(\"Total reward=\", totalReward)\n",
        "    break"
      ],
      "execution_count": 0,
      "outputs": [
        {
          "output_type": "stream",
          "text": [
            "Step 1\n",
            "obs= [ 1.0000000e+00 -1.7075076e+03  7.5000000e+01  6.0000000e+01\n",
            "  1.5000000e+01  7.0000000e+01  0.0000000e+00] reward= -1707.5075514916584 action= [1, 0] done= False\n",
            "Step 2\n",
            "obs= [    2.     -1669.4515    75.        55.        15.        60.\n",
            "     0.    ] reward= -1669.4514883524384 action= [1, 0] done= False\n",
            "Step 3\n",
            "obs= [    3.    -1647.648    75.       50.       15.       50.        0.   ] reward= -1647.6479837525942 action= [1, 0] done= False\n",
            "Step 4\n",
            "obs= [    4.     -1635.0586    75.        45.        15.        40.\n",
            "     0.    ] reward= -1635.0586372656744 action= [1, 0] done= True\n",
            "Goal reached! reward= -1635.0586372656744\n",
            "Total reward= -6659.665660862365\n"
          ],
          "name": "stdout"
        },
        {
          "output_type": "stream",
          "text": [
            "/usr/local/lib/python3.6/dist-packages/gym/logger.py:30: UserWarning: \u001b[33mWARN: Box bound precision lowered by casting to float32\u001b[0m\n",
            "  warnings.warn(colorize('%s: %s'%('WARN', msg % args), 'yellow'))\n"
          ],
          "name": "stderr"
        }
      ]
    },
    {
      "cell_type": "code",
      "metadata": {
        "id": "haqdOqeGqVe5",
        "colab_type": "code",
        "outputId": "6b9c7ca6-0564-4ce7-8cf7-cc4233e8e559",
        "colab": {
          "base_uri": "https://localhost:8080/",
          "height": 317
        }
      },
      "source": [
        "# Price/profit graphing code\n",
        "game = CustomEnv()\n",
        "\n",
        "rewardGained = []\n",
        "\n",
        "for j in np.arange(0, 1, 0.01):\n",
        "\n",
        "  obs = game.reset()\n",
        "\n",
        "  totalReward = 0\n",
        "\n",
        "  n_steps = 20\n",
        "  for step in range(n_steps):\n",
        "    price = j\n",
        "    unitsMfg = 1\n",
        "    action = [price, unitsMfg]\n",
        "    obs, reward, done, info = game.step(action)\n",
        "    #print('obs=', obs, 'reward=', reward, 'action=', action,'done=', done)\n",
        "    totalReward += reward\n",
        "    if done:\n",
        "      #print(\"Goal reached!\", \"reward=\", reward)\n",
        "      #print(\"Total reward=\", totalReward)\n",
        "      rewardGained.append(totalReward)\n",
        "      break\n",
        "plt.plot(rewardGained)"
      ],
      "execution_count": 0,
      "outputs": [
        {
          "output_type": "stream",
          "text": [
            "/usr/local/lib/python3.6/dist-packages/gym/logger.py:30: UserWarning: \u001b[33mWARN: Box bound precision lowered by casting to float32\u001b[0m\n",
            "  warnings.warn(colorize('%s: %s'%('WARN', msg % args), 'yellow'))\n"
          ],
          "name": "stderr"
        },
        {
          "output_type": "execute_result",
          "data": {
            "text/plain": [
              "[<matplotlib.lines.Line2D at 0x7fdef7edbfd0>]"
            ]
          },
          "metadata": {
            "tags": []
          },
          "execution_count": 6
        },
        {
          "output_type": "display_data",
          "data": {
            "image/png": "[encoded data removed]",
            "text/plain": [
              "<Figure size 432x288 with 1 Axes>"
            ]
          },
          "metadata": {
            "tags": [],
            "needs_background": "light"
          }
        }
      ]
    },
    {
      "cell_type": "code",
      "metadata": {
        "id": "-_uKN8DCdr5X",
        "colab_type": "code",
        "outputId": "58dbfc7e-5103-402f-f6b7-5bd148114d37",
        "colab": {
          "base_uri": "https://localhost:8080/",
          "height": 317
        }
      },
      "source": [
        "# UnitsManufactured/profit graphing code\n",
        "game = CustomEnv()\n",
        "\n",
        "rwGained = []\n",
        "\n",
        "for i in np.arange(0, 1, 0.01):\n",
        "\n",
        "  obs = game.reset()\n",
        "\n",
        "  rTot = 0\n",
        "\n",
        "  n_steps = 20\n",
        "  for step in range(n_steps):\n",
        "    price = 1\n",
        "    unitsMfg = i\n",
        "    action = [price, unitsMfg]\n",
        "    obs, reward, done, info = game.step(action)\n",
        "    #print('obs=', obs, 'reward=', reward, 'action=', action,'done=', done)\n",
        "    rTot += reward\n",
        "    if done:\n",
        "      #print(\"Goal reached!\", \"reward=\", reward)\n",
        "      #print(\"Total reward=\", totalReward)\n",
        "      rwGained.append(rTot)\n",
        "      break\n",
        "plt.plot(rwGained)"
      ],
      "execution_count": 0,
      "outputs": [
        {
          "output_type": "stream",
          "text": [
            "/usr/local/lib/python3.6/dist-packages/gym/logger.py:30: UserWarning: \u001b[33mWARN: Box bound precision lowered by casting to float32\u001b[0m\n",
            "  warnings.warn(colorize('%s: %s'%('WARN', msg % args), 'yellow'))\n"
          ],
          "name": "stderr"
        },
        {
          "output_type": "execute_result",
          "data": {
            "text/plain": [
              "[<matplotlib.lines.Line2D at 0x7fdeeea22780>]"
            ]
          },
          "metadata": {
            "tags": []
          },
          "execution_count": 7
        },
        {
          "output_type": "display_data",
          "data": {
            "image/png": "[encoded data removed]",
            "text/plain": [
              "<Figure size 432x288 with 1 Axes>"
            ]
          },
          "metadata": {
            "tags": [],
            "needs_background": "light"
          }
        }
      ]
    },
    {
      "cell_type": "code",
      "metadata": {
        "id": "a5UbE2aO3TNx",
        "colab_type": "code",
        "outputId": "e8e2f300-3f16-46db-dd8c-70edfcdf2722",
        "colab": {
          "base_uri": "https://localhost:8080/",
          "height": 625
        }
      },
      "source": [
        "game = CustomEnv()\n",
        "\n",
        "# Create the \"model\" for our RL\n",
        "model = TRPO(MlpPolicy, game, verbose=0)\n",
        "\n",
        "totalRewards = []"
      ],
      "execution_count": 0,
      "outputs": [
        {
          "output_type": "stream",
          "text": [
            "WARNING:tensorflow:From /usr/local/lib/python3.6/dist-packages/stable_baselines/common/tf_util.py:191: The name tf.ConfigProto is deprecated. Please use tf.compat.v1.ConfigProto instead.\n",
            "\n",
            "WARNING:tensorflow:From /usr/local/lib/python3.6/dist-packages/stable_baselines/common/tf_util.py:200: The name tf.Session is deprecated. Please use tf.compat.v1.Session instead.\n",
            "\n"
          ],
          "name": "stdout"
        },
        {
          "output_type": "stream",
          "text": [
            "/usr/local/lib/python3.6/dist-packages/gym/logger.py:30: UserWarning: \u001b[33mWARN: Box bound precision lowered by casting to float32\u001b[0m\n",
            "  warnings.warn(colorize('%s: %s'%('WARN', msg % args), 'yellow'))\n"
          ],
          "name": "stderr"
        },
        {
          "output_type": "stream",
          "text": [
            "WARNING:tensorflow:From /usr/local/lib/python3.6/dist-packages/stable_baselines/common/policies.py:116: The name tf.variable_scope is deprecated. Please use tf.compat.v1.variable_scope instead.\n",
            "\n",
            "WARNING:tensorflow:From /usr/local/lib/python3.6/dist-packages/stable_baselines/common/input.py:25: The name tf.placeholder is deprecated. Please use tf.compat.v1.placeholder instead.\n",
            "\n",
            "WARNING:tensorflow:From /usr/local/lib/python3.6/dist-packages/stable_baselines/common/policies.py:561: flatten (from tensorflow.python.layers.core) is deprecated and will be removed in a future version.\n",
            "Instructions for updating:\n",
            "Use keras.layers.flatten instead.\n",
            "WARNING:tensorflow:From /tensorflow-1.15.2/python3.6/tensorflow_core/python/layers/core.py:332: Layer.apply (from tensorflow.python.keras.engine.base_layer) is deprecated and will be removed in a future version.\n",
            "Instructions for updating:\n",
            "Please use `layer.__call__` method instead.\n",
            "WARNING:tensorflow:From /usr/local/lib/python3.6/dist-packages/stable_baselines/common/tf_layers.py:123: The name tf.get_variable is deprecated. Please use tf.compat.v1.get_variable instead.\n",
            "\n",
            "WARNING:tensorflow:From /usr/local/lib/python3.6/dist-packages/stable_baselines/common/distributions.py:418: The name tf.random_normal is deprecated. Please use tf.random.normal instead.\n",
            "\n",
            "WARNING:tensorflow:From /usr/local/lib/python3.6/dist-packages/stable_baselines/common/tf_util.py:449: The name tf.get_collection is deprecated. Please use tf.compat.v1.get_collection instead.\n",
            "\n",
            "WARNING:tensorflow:From /usr/local/lib/python3.6/dist-packages/stable_baselines/common/tf_util.py:449: The name tf.GraphKeys is deprecated. Please use tf.compat.v1.GraphKeys instead.\n",
            "\n",
            "WARNING:tensorflow:From /usr/local/lib/python3.6/dist-packages/stable_baselines/common/tf_util.py:407: The name tf.assign is deprecated. Please use tf.compat.v1.assign instead.\n",
            "\n",
            "WARNING:tensorflow:From /usr/local/lib/python3.6/dist-packages/stable_baselines/trpo_mpi/trpo_mpi.py:192: The name tf.summary.scalar is deprecated. Please use tf.compat.v1.summary.scalar instead.\n",
            "\n",
            "WARNING:tensorflow:From /usr/local/lib/python3.6/dist-packages/stable_baselines/common/tf_util.py:241: The name tf.global_variables is deprecated. Please use tf.compat.v1.global_variables instead.\n",
            "\n",
            "WARNING:tensorflow:From /usr/local/lib/python3.6/dist-packages/stable_baselines/common/tf_util.py:242: The name tf.variables_initializer is deprecated. Please use tf.compat.v1.variables_initializer instead.\n",
            "\n",
            "WARNING:tensorflow:From /usr/local/lib/python3.6/dist-packages/stable_baselines/trpo_mpi/trpo_mpi.py:266: The name tf.summary.merge_all is deprecated. Please use tf.compat.v1.summary.merge_all instead.\n",
            "\n"
          ],
          "name": "stdout"
        }
      ]
    },
    {
      "cell_type": "code",
      "metadata": {
        "id": "RfpJIevgeFuh",
        "colab_type": "code",
        "outputId": "61dc102f-bf2c-47fa-9500-54d48a82bf6e",
        "colab": {
          "base_uri": "https://localhost:8080/",
          "height": 281
        }
      },
      "source": [
        "numDataPtsDesired = 100\n",
        "numTimeSteps = 50\n",
        "\n",
        "\n",
        "for i in range(numDataPtsDesired):\n",
        "  # Have the model learn for numTimeSteps more timesteps, and append the number of iterations to our list\n",
        "  model.learn(total_timesteps=numTimeSteps)\n",
        "\n",
        "  # Have the model run predictions for a new instance of the game to gather data on performance\n",
        "  #for samplePoint in range(sampledPoints):\n",
        "  done = False\n",
        "  obs = game.reset()\n",
        "\n",
        "  currRewardTot = 0\n",
        "\n",
        "  # Generate a prediction and then total up the rewards\n",
        "  while not done:\n",
        "    action, _states = model.predict(obs)\n",
        "    obs, rewards, done, info = game.step(action)\n",
        "\n",
        "    currRewardTot += rewards\n",
        "  \n",
        "  # Append the mean total reward as our result\n",
        "  totalRewards.append(currRewardTot)\n",
        "\n",
        "# Display the total rewards list\n",
        "#print(totalRewards)\n",
        "# Plot the rewards\n",
        "plt.plot(totalRewards)"
      ],
      "execution_count": 132,
      "outputs": [
        {
          "output_type": "execute_result",
          "data": {
            "text/plain": [
              "[<matplotlib.lines.Line2D at 0x7fde8dc226a0>]"
            ]
          },
          "metadata": {
            "tags": []
          },
          "execution_count": 132
        },
        {
          "output_type": "display_data",
          "data": {
            "image/png": "[encoded data removed]",
            "text/plain": [
              "<Figure size 432x288 with 1 Axes>"
            ]
          },
          "metadata": {
            "tags": [],
            "needs_background": "light"
          }
        }
      ]
    },
    {
      "cell_type": "code",
      "metadata": {
        "id": "bUn4meFtuQmS",
        "colab_type": "code",
        "outputId": "1f6b7407-0e59-4a7c-8bd4-09c94c4175cc",
        "colab": {
          "base_uri": "https://localhost:8080/",
          "height": 281
        }
      },
      "source": [
        "# My lazy way of saving plots that I like temporarily\n",
        "plt.plot(totalRewards)"
      ],
      "execution_count": 133,
      "outputs": [
        {
          "output_type": "execute_result",
          "data": {
            "text/plain": [
              "[<matplotlib.lines.Line2D at 0x7fde8dc6ef28>]"
            ]
          },
          "metadata": {
            "tags": []
          },
          "execution_count": 133
        },
        {
          "output_type": "display_data",
          "data": {
            "image/png": "[encoded data removed]",
            "text/plain": [
              "<Figure size 432x288 with 1 Axes>"
            ]
          },
          "metadata": {
            "tags": [],
            "needs_background": "light"
          }
        }
      ]
    },
    {
      "cell_type": "code",
      "metadata": {
        "id": "lFi7E3YM8PQL",
        "colab_type": "code",
        "colab": {}
      },
      "source": [
        "#model = TRPO(MlpPolicy, game, verbose=1)\n",
        "#model.learn(total_timesteps=50000)"
      ],
      "execution_count": 0,
      "outputs": []
    },
    {
      "cell_type": "code",
      "metadata": {
        "id": "I-T3-PHDQgcD",
        "colab_type": "code",
        "outputId": "73797d49-2b96-4700-d141-a7886c662c5d",
        "colab": {
          "base_uri": "https://localhost:8080/",
          "height": 217
        }
      },
      "source": [
        "# Test the model to see how it performs\n",
        "\n",
        "dones = False\n",
        "obs = game.reset()\n",
        "while not dones:\n",
        "  action, _states = model.predict(obs)\n",
        "  obs, rewards, dones, info = game.step(action)\n",
        "  print(action)\n",
        "  print(obs)\n",
        "  print(rewards)"
      ],
      "execution_count": 134,
      "outputs": [
        {
          "output_type": "stream",
          "text": [
            "[0.697 0.33 ]\n",
            "[  1.    515.909  52.257  60.     15.     70.     49.498]\n",
            "515.9090765548867\n",
            "[0.537 0.583]\n",
            "[   2.    1008.947   40.262   55.      15.      60.      87.503]\n",
            "1008.9472575285467\n",
            "[0.516 0.594]\n",
            "[  3.    741.833  38.693  50.     15.     50.     89.153]\n",
            "741.8331263017235\n",
            "[0.461 0.499]\n",
            "[  4.    311.048  34.554  45.     15.     40.     74.841]\n",
            "311.0478863582996\n"
          ],
          "name": "stdout"
        }
      ]
    },
    {
      "cell_type": "code",
      "metadata": {
        "id": "zYHunVA80eQI",
        "colab_type": "code",
        "outputId": "d4aa75a5-ff34-48e4-c5d9-90ae12753dfc",
        "colab": {
          "base_uri": "https://localhost:8080/",
          "height": 86
        }
      },
      "source": [
        "#game.weightedRank([70, 60, 15, 70])"
      ],
      "execution_count": 0,
      "outputs": [
        {
          "output_type": "execute_result",
          "data": {
            "text/plain": [
              "[0.050690329999932976,\n",
              " 0.22954492710415925,\n",
              " 0.6690744128959747,\n",
              " 0.050690329999932976]"
            ]
          },
          "metadata": {
            "tags": []
          },
          "execution_count": 23
        }
      ]
    },
    {
      "cell_type": "code",
      "metadata": {
        "id": "8SV9gSEA-1Ei",
        "colab_type": "code",
        "colab": {}
      },
      "source": [
        ""
      ],
      "execution_count": 0,
      "outputs": []
    },
    {
      "cell_type": "code",
      "metadata": {
        "id": "1gtKCgM3tjQ-",
        "colab_type": "code",
        "colab": {}
      },
      "source": [
        "# Test the model to see how it performs\n",
        "\n",
        "rewRecord = []\n",
        "\n",
        "dataPts = 250\n",
        "prices = [[0 for x in range(4)] for y in range(dataPts)]\n",
        "qtyOrdered = [[0 for x in range(4)] for y in range(dataPts)]\n",
        "\n",
        "\n",
        "for i in range(dataPts):\n",
        "  dones = False\n",
        "  obs = game.reset()\n",
        "  thisGameReward = 0.0\n",
        "  counter = 0\n",
        "\n",
        "  while not dones:\n",
        "    action, _states = model.predict(obs)\n",
        "\n",
        "    prices[i][counter] = action[0] * game.maxPrice\n",
        "    qtyOrdered[i][counter] = action[1] * game.capacity\n",
        "\n",
        "    obs, rewards, dones, info = game.step(action)\n",
        "    thisGameReward += rewards\n",
        "    #print(action)\n",
        "    #print(obs)\n",
        "    #print(rewards)\n",
        "    counter += 1\n",
        "  rewRecord.append(thisGameReward)\n",
        "prices = np.array(prices)\n",
        "qtyOrdered = np.array(qtyOrdered)"
      ],
      "execution_count": 0,
      "outputs": []
    },
    {
      "cell_type": "code",
      "metadata": {
        "id": "un4qdM1RuQzX",
        "colab_type": "code",
        "outputId": "ce3b1270-66f4-47ed-f0da-cb083ba1026f",
        "colab": {
          "base_uri": "https://localhost:8080/",
          "height": 257
        }
      },
      "source": [
        "# Create a reward histogram\n",
        "\n",
        "import seaborn as sns\n",
        "import pandas as pd\n",
        "\n",
        "print(\"Reward mean (sum of all period rewards) is: \" + str(statistics.mean(rewRecord)))\n",
        "print(\"Reward stDev is: \" + str(statistics.stdev(rewRecord)))\n",
        "\n",
        "ax = sns.pairplot(pd.DataFrame(rewRecord))\n",
        "ax.set(title=\"Reward Histogram\", xlabel='Reward', ylabel='Frequency')\n",
        "plt.show()"
      ],
      "execution_count": 136,
      "outputs": [
        {
          "output_type": "stream",
          "text": [
            "Reward mean (sum of all period rewards) is: 3163.5335044456388\n",
            "Reward stDev is: 388.5070974835021\n"
          ],
          "name": "stdout"
        },
        {
          "output_type": "display_data",
          "data": {
            "image/png": "[encoded data removed]",
            "text/plain": [
              "<Figure size 180x180 with 2 Axes>"
            ]
          },
          "metadata": {
            "tags": [],
            "needs_background": "light"
          }
        }
      ]
    },
    {
      "cell_type": "code",
      "metadata": {
        "id": "sDeH-8NfwmNH",
        "colab_type": "code",
        "outputId": "e0a0ed0d-db86-49e9-e2b6-0fe34c048272",
        "colab": {
          "base_uri": "https://localhost:8080/",
          "height": 496
        }
      },
      "source": [
        "# Pd 0 pricing pairplot\n",
        "currPeriodPrice = prices[:,0]\n",
        "print(\"Mean price for Pd 0: \" + str(statistics.mean(currPeriodPrice)))\n",
        "print(\"price Standad Deviation for Pd 0: \" + str(statistics.stdev(currPeriodPrice)))\n",
        "ax = sns.pairplot(pd.DataFrame(currPeriodPrice))\n",
        "ax.set(title=\"Pd 0 Price Histogram\", xlabel='Price', ylabel='Frequency')\n",
        "plt.show()\n",
        "\n",
        "# Pd 0 qtyOrdered pairplot\n",
        "currPdQty = qtyOrdered[:,0]\n",
        "print(\"Mean qtyOrdered for Pd 0: \" + str(statistics.mean(currPdQty)))\n",
        "print(\"qtyOrdered Standad Deviation for Pd 0: \" + str(statistics.stdev(currPdQty)))\n",
        "ax = sns.pairplot(pd.DataFrame(currPdQty))\n",
        "ax.set(title=\"Pd 0 Qty Ordered Histogram\", xlabel='Units Ordered', ylabel='Frequency')\n",
        "plt.show()"
      ],
      "execution_count": 137,
      "outputs": [
        {
          "output_type": "stream",
          "text": [
            "Mean price for Pd 0: 48.67749971151352\n",
            "price Standad Deviation for Pd 0: 1.9768503634110908\n"
          ],
          "name": "stdout"
        },
        {
          "output_type": "display_data",
          "data": {
            "image/png": "[encoded data removed]",
            "text/plain": [
              "<Figure size 180x180 with 2 Axes>"
            ]
          },
          "metadata": {
            "tags": [],
            "needs_background": "light"
          }
        },
        {
          "output_type": "stream",
          "text": [
            "Mean qtyOrdered for Pd 0: 78.16940438747406\n",
            "qtyOrdered Standad Deviation for Pd 0: 9.12061859885416\n"
          ],
          "name": "stdout"
        },
        {
          "output_type": "display_data",
          "data": {
            "image/png": "[encoded data removed]",
            "text/plain": [
              "<Figure size 180x180 with 2 Axes>"
            ]
          },
          "metadata": {
            "tags": [],
            "needs_background": "light"
          }
        }
      ]
    },
    {
      "cell_type": "code",
      "metadata": {
        "id": "43_HD4o4xi9G",
        "colab_type": "code",
        "outputId": "4e14e125-f5d1-46f8-8cea-bcdf66ebb87d",
        "colab": {
          "base_uri": "https://localhost:8080/",
          "height": 496
        }
      },
      "source": [
        "# Pd 1 pricing pairplot\n",
        "currPeriodPrice = prices[:,1]\n",
        "print(\"Mean price for Pd 1: \" + str(statistics.mean(currPeriodPrice)))\n",
        "print(\"price Standad Deviation for Pd 1: \" + str(statistics.stdev(currPeriodPrice)))\n",
        "ax = sns.pairplot(pd.DataFrame(currPeriodPrice))\n",
        "ax.set(title=\"Pd 1 Price Histogram\", xlabel='Price', ylabel='Frequency')\n",
        "plt.show()\n",
        "\n",
        "# Pd 1 qtyOrdered pairplot\n",
        "currPdQty = qtyOrdered[:,1]\n",
        "print(\"Mean qtyOrdered for Pd 1: \" + str(statistics.mean(currPdQty)))\n",
        "print(\"qtyOrdered Standad Deviation for Pd 1: \" + str(statistics.stdev(currPdQty)))\n",
        "ax = sns.pairplot(pd.DataFrame(currPdQty))\n",
        "ax.set(title=\"Pd  Qty Ordered Histogram\", xlabel='Units Ordered', ylabel='Frequency')\n",
        "plt.show()"
      ],
      "execution_count": 138,
      "outputs": [
        {
          "output_type": "stream",
          "text": [
            "Mean price for Pd 1: 41.57256023883819\n",
            "price Standad Deviation for Pd 1: 2.2884779157003843\n"
          ],
          "name": "stdout"
        },
        {
          "output_type": "display_data",
          "data": {
            "image/png": "[encoded data removed]",
            "text/plain": [
              "<Figure size 180x180 with 2 Axes>"
            ]
          },
          "metadata": {
            "tags": [],
            "needs_background": "light"
          }
        },
        {
          "output_type": "stream",
          "text": [
            "Mean qtyOrdered for Pd 1: 85.66208138465882\n",
            "qtyOrdered Standad Deviation for Pd 1: 11.286865105294561\n"
          ],
          "name": "stdout"
        },
        {
          "output_type": "display_data",
          "data": {
            "image/png": "[encoded data removed]",
            "text/plain": [
              "<Figure size 180x180 with 2 Axes>"
            ]
          },
          "metadata": {
            "tags": [],
            "needs_background": "light"
          }
        }
      ]
    },
    {
      "cell_type": "code",
      "metadata": {
        "id": "9PWb2eNtzdGU",
        "colab_type": "code",
        "outputId": "0e63ca8f-a2cc-4ca0-9865-2f86f5124e4d",
        "colab": {
          "base_uri": "https://localhost:8080/",
          "height": 496
        }
      },
      "source": [
        "# Pd 2 pricing pairplot\n",
        "currPeriodPrice = prices[:,2]\n",
        "print(\"Mean price for Pd 2: \" + str(statistics.mean(currPeriodPrice)))\n",
        "print(\"price Standad Deviation for Pd 2: \" + str(statistics.stdev(currPeriodPrice)))\n",
        "ax = sns.pairplot(pd.DataFrame(currPeriodPrice))\n",
        "ax.set(title=\"Pd 2 Price Histogram\", xlabel='Price', ylabel='Frequency')\n",
        "plt.show()\n",
        "\n",
        "# Pd 2 qtyOrdered pairplot\n",
        "currPdQty = qtyOrdered[:,2]\n",
        "print(\"Mean qtyOrdered for Pd 2: \" + str(statistics.mean(currPdQty)))\n",
        "print(\"qtyOrdered Standad Deviation for Pd 2: \" + str(statistics.stdev(currPdQty)))\n",
        "ax = sns.pairplot(pd.DataFrame(currPdQty))\n",
        "ax.set(title=\"Pd 2 Qty Ordered Histogram\", xlabel='Units Ordered', ylabel='Frequency')\n",
        "plt.show()"
      ],
      "execution_count": 139,
      "outputs": [
        {
          "output_type": "stream",
          "text": [
            "Mean price for Pd 2: 36.846804794669154\n",
            "price Standad Deviation for Pd 2: 2.178808107637526\n"
          ],
          "name": "stdout"
        },
        {
          "output_type": "display_data",
          "data": {
            "image/png": "[encoded data removed]",
            "text/plain": [
              "<Figure size 180x180 with 2 Axes>"
            ]
          },
          "metadata": {
            "tags": [],
            "needs_background": "light"
          }
        },
        {
          "output_type": "stream",
          "text": [
            "Mean qtyOrdered for Pd 2: 86.74180878996849\n",
            "qtyOrdered Standad Deviation for Pd 2: 10.621577053802758\n"
          ],
          "name": "stdout"
        },
        {
          "output_type": "display_data",
          "data": {
            "image/png": "[encoded data removed]",
            "text/plain": [
              "<Figure size 180x180 with 2 Axes>"
            ]
          },
          "metadata": {
            "tags": [],
            "needs_background": "light"
          }
        }
      ]
    },
    {
      "cell_type": "code",
      "metadata": {
        "id": "75sNO8a_zfpv",
        "colab_type": "code",
        "outputId": "c262a9c9-88a0-4e4f-f551-8e092d887587",
        "colab": {
          "base_uri": "https://localhost:8080/",
          "height": 496
        }
      },
      "source": [
        "# Pd 3 pricing pairplot\n",
        "currPeriodPrice = prices[:,3]\n",
        "print(\"Mean price for Pd 3: \" + str(statistics.mean(currPeriodPrice)))\n",
        "print(\"price Standad Deviation for Pd 3: \" + str(statistics.stdev(currPeriodPrice)))\n",
        "ax = sns.pairplot(pd.DataFrame(currPeriodPrice))\n",
        "ax.set(title=\"Pd 3 Price Histogram\", xlabel='Price', ylabel='Frequency')\n",
        "plt.show()\n",
        "\n",
        "# Pd 1 qtyOrdered pairplot\n",
        "currPdQty = qtyOrdered[:,3]\n",
        "print(\"Mean qtyOrdered for Pd 3: \" + str(statistics.mean(currPdQty)))\n",
        "print(\"qtyOrdered Standad Deviation for Pd 3: \" + str(statistics.stdev(currPdQty)))\n",
        "ax = sns.pairplot(pd.DataFrame(currPdQty))\n",
        "ax.set(title=\"Pd 3 Qty Ordered Histogram\", xlabel='Units Ordered', ylabel='Frequency')\n",
        "plt.show()"
      ],
      "execution_count": 140,
      "outputs": [
        {
          "output_type": "stream",
          "text": [
            "Mean price for Pd 3: 32.87197367995977\n",
            "price Standad Deviation for Pd 3: 2.44453702577852\n"
          ],
          "name": "stdout"
        },
        {
          "output_type": "display_data",
          "data": {
            "image/png": "[encoded data removed]",
            "text/plain": [
              "<Figure size 180x180 with 2 Axes>"
            ]
          },
          "metadata": {
            "tags": [],
            "needs_background": "light"
          }
        },
        {
          "output_type": "stream",
          "text": [
            "Mean qtyOrdered for Pd 3: 80.89483770132065\n",
            "qtyOrdered Standad Deviation for Pd 3: 10.78756621176234\n"
          ],
          "name": "stdout"
        },
        {
          "output_type": "display_data",
          "data": {
            "image/png": "[encoded data removed]",
            "text/plain": [
              "<Figure size 180x180 with 2 Axes>"
            ]
          },
          "metadata": {
            "tags": [],
            "needs_background": "light"
          }
        }
      ]
    }
  ]
}