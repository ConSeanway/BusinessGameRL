{
  "nbformat": 4,
  "nbformat_minor": 0,
  "metadata": {
    "colab": {
      "name": "Demand_Prediction_RL v5.0 THIS WORKS",
      "provenance": [],
      "collapsed_sections": [],
      "include_colab_link": true
    },
    "kernelspec": {
      "name": "python3",
      "display_name": "Python 3"
    },
    "accelerator": "GPU"
  },
  "cells": [
    {
      "cell_type": "markdown",
      "metadata": {
        "id": "view-in-github",
        "colab_type": "text"
      },
      "source": [
        "<a href=\"https://colab.research.google.com/github/ConSeanway/BusinessGameRL/blob/master/Demand_Prediction_RL_v5_0_THIS_WORKS.ipynb\" target=\"_parent\"><img src=\"https://colab.research.google.com/assets/colab-badge.svg\" alt=\"Open In Colab\"/></a>"
      ]
    },
    {
      "cell_type": "code",
      "metadata": {
        "id": "MCc7IesMm_Nc",
        "colab_type": "code",
        "outputId": "937a258f-1de7-4df2-8f04-2727adc93d40",
        "colab": {
          "base_uri": "https://localhost:8080/",
          "height": 505
        }
      },
      "source": [
        "%tensorflow_version 1.x\n",
        "!pip install stable-baselines[mpi]==2.10.0"
      ],
      "execution_count": 0,
      "outputs": [
        {
          "output_type": "stream",
          "text": [
            "TensorFlow 1.x selected.\n",
            "Collecting stable-baselines[mpi]==2.10.0\n",
            "\u001b[?25l  Downloading https://files.pythonhosted.org/packages/e5/fe/db8159d4d79109c6c8942abe77c7ba6b6e008c32ae55870a35e73fa10db3/stable_baselines-2.10.0-py3-none-any.whl (248kB)\n",
            "\u001b[K     |████████████████████████████████| 256kB 2.8MB/s \n",
            "\u001b[?25hRequirement already satisfied: joblib in /usr/local/lib/python3.6/dist-packages (from stable-baselines[mpi]==2.10.0) (0.15.1)\n",
            "Requirement already satisfied: gym[atari,classic_control]>=0.11 in /usr/local/lib/python3.6/dist-packages (from stable-baselines[mpi]==2.10.0) (0.17.2)\n",
            "Requirement already satisfied: pandas in /usr/local/lib/python3.6/dist-packages (from stable-baselines[mpi]==2.10.0) (1.0.4)\n",
            "Requirement already satisfied: scipy in /usr/local/lib/python3.6/dist-packages (from stable-baselines[mpi]==2.10.0) (1.4.1)\n",
            "Requirement already satisfied: matplotlib in /usr/local/lib/python3.6/dist-packages (from stable-baselines[mpi]==2.10.0) (3.2.1)\n",
            "Requirement already satisfied: cloudpickle>=0.5.5 in /usr/local/lib/python3.6/dist-packages (from stable-baselines[mpi]==2.10.0) (1.3.0)\n",
            "Requirement already satisfied: numpy in /usr/local/lib/python3.6/dist-packages (from stable-baselines[mpi]==2.10.0) (1.18.5)\n",
            "Requirement already satisfied: opencv-python in /usr/local/lib/python3.6/dist-packages (from stable-baselines[mpi]==2.10.0) (4.1.2.30)\n",
            "Requirement already satisfied: mpi4py; extra == \"mpi\" in /tensorflow-1.15.2/python3.6 (from stable-baselines[mpi]==2.10.0) (3.0.3)\n",
            "Requirement already satisfied: pyglet<=1.5.0,>=1.4.0 in /usr/local/lib/python3.6/dist-packages (from gym[atari,classic_control]>=0.11->stable-baselines[mpi]==2.10.0) (1.5.0)\n",
            "Requirement already satisfied: Pillow; extra == \"atari\" in /usr/local/lib/python3.6/dist-packages (from gym[atari,classic_control]>=0.11->stable-baselines[mpi]==2.10.0) (7.0.0)\n",
            "Requirement already satisfied: atari-py~=0.2.0; extra == \"atari\" in /usr/local/lib/python3.6/dist-packages (from gym[atari,classic_control]>=0.11->stable-baselines[mpi]==2.10.0) (0.2.6)\n",
            "Requirement already satisfied: python-dateutil>=2.6.1 in /usr/local/lib/python3.6/dist-packages (from pandas->stable-baselines[mpi]==2.10.0) (2.8.1)\n",
            "Requirement already satisfied: pytz>=2017.2 in /usr/local/lib/python3.6/dist-packages (from pandas->stable-baselines[mpi]==2.10.0) (2018.9)\n",
            "Requirement already satisfied: kiwisolver>=1.0.1 in /usr/local/lib/python3.6/dist-packages (from matplotlib->stable-baselines[mpi]==2.10.0) (1.2.0)\n",
            "Requirement already satisfied: pyparsing!=2.0.4,!=2.1.2,!=2.1.6,>=2.0.1 in /usr/local/lib/python3.6/dist-packages (from matplotlib->stable-baselines[mpi]==2.10.0) (2.4.7)\n",
            "Requirement already satisfied: cycler>=0.10 in /usr/local/lib/python3.6/dist-packages (from matplotlib->stable-baselines[mpi]==2.10.0) (0.10.0)\n",
            "Requirement already satisfied: future in /usr/local/lib/python3.6/dist-packages (from pyglet<=1.5.0,>=1.4.0->gym[atari,classic_control]>=0.11->stable-baselines[mpi]==2.10.0) (0.16.0)\n",
            "Requirement already satisfied: six in /usr/local/lib/python3.6/dist-packages (from atari-py~=0.2.0; extra == \"atari\"->gym[atari,classic_control]>=0.11->stable-baselines[mpi]==2.10.0) (1.12.0)\n",
            "Installing collected packages: stable-baselines\n",
            "  Found existing installation: stable-baselines 2.2.1\n",
            "    Uninstalling stable-baselines-2.2.1:\n",
            "      Successfully uninstalled stable-baselines-2.2.1\n",
            "Successfully installed stable-baselines-2.10.0\n"
          ],
          "name": "stdout"
        }
      ]
    },
    {
      "cell_type": "code",
      "metadata": {
        "id": "aSWCe3o5rtSJ",
        "colab_type": "code",
        "outputId": "f2c02719-3480-4843-ea42-6af82417ec78",
        "colab": {
          "base_uri": "https://localhost:8080/",
          "height": 204
        }
      },
      "source": [
        "import numpy as np\n",
        "import matplotlib.pyplot as plt\n",
        "%matplotlib inline\n",
        "import matplotlib\n",
        "from math import exp\n",
        "from math import sqrt\n",
        "from math import log\n",
        "import torch\n",
        "import torch.nn as nn\n",
        "import torch.nn.functional as F\n",
        "import torch.optim as optim\n",
        "from torch.distributions import Categorical\n",
        "import gym\n",
        "from gym import spaces\n",
        "from stable_baselines.common.env_checker import check_env\n",
        "from stable_baselines.common.policies import MlpPolicy\n",
        "from stable_baselines.common.policies import MlpLnLstmPolicy\n",
        "from stable_baselines.common.vec_env import DummyVecEnv\n",
        "from stable_baselines import PPO2\n",
        "from stable_baselines import TRPO\n",
        "from stable_baselines import results_plotter\n",
        "import statistics\n",
        "import random\n",
        "from stable_baselines.common import make_vec_env\n",
        "from stable_baselines import A2C\n",
        "from stable_baselines import SAC\n",
        "import seaborn as sns\n",
        "import pandas as pd"
      ],
      "execution_count": 0,
      "outputs": [
        {
          "output_type": "stream",
          "text": [
            "WARNING:tensorflow:\n",
            "The TensorFlow contrib module will not be included in TensorFlow 2.0.\n",
            "For more information, please see:\n",
            "  * https://github.com/tensorflow/community/blob/master/rfcs/20180907-contrib-sunset.md\n",
            "  * https://github.com/tensorflow/addons\n",
            "  * https://github.com/tensorflow/io (for I/O related ops)\n",
            "If you depend on functionality not listed there, please file an issue.\n",
            "\n"
          ],
          "name": "stdout"
        },
        {
          "output_type": "stream",
          "text": [
            "/usr/local/lib/python3.6/dist-packages/statsmodels/tools/_testing.py:19: FutureWarning: pandas.util.testing is deprecated. Use the functions in the public API at pandas.testing instead.\n",
            "  import pandas.util.testing as tm\n"
          ],
          "name": "stderr"
        }
      ]
    },
    {
      "cell_type": "code",
      "metadata": {
        "id": "YN3TE03ObTBo",
        "colab_type": "code",
        "outputId": "1d76f996-33f8-4568-873e-cfd9f167f098",
        "colab": {
          "base_uri": "https://localhost:8080/",
          "height": 53
        }
      },
      "source": [
        "'''\n",
        "class Team():\n",
        "  # Initialization method, behaviorType should specify how we should set the prices\n",
        "  def __init__(self, teamName, behaviorType=\"0\", initCapacity=150, minPrice=0, maxPrice=75, holdingCost=3, stockoutCost=20, mfgUnitCost=6, fixedCost=1500):\n",
        "    \n",
        "    self.teamName = teamName\n",
        "    self.behaviorType = behaviorType\n",
        "\n",
        "    self.capacity = initCapacity\n",
        "    self.minPrice = minPrice\n",
        "    self.maxPrice = maxPrice\n",
        "\n",
        "    self.holdingCost = holdingCost\n",
        "    self.stockoutCost = stockoutCost\n",
        "\n",
        "    self.mfgUnitCost = mfgUnitCost\n",
        "    self.fixedCost = fixedCost\n",
        "\n",
        "    self.price = 0\n",
        "    self.unitsSold = 0\n",
        "    self.unitsManufactured = 0\n",
        "\n",
        "    self.profit = 0\n",
        "    self.totalProfit = 0\n",
        "\n",
        "  #######################################################################\n",
        "\n",
        "  # Basic \"GET\" functions for some important variables for our team\n",
        "\n",
        "  def getCapacity(self):\n",
        "    return self.capacity\n",
        "\n",
        "  def getMinPrice(self):\n",
        "    return self.minPrice\n",
        "\n",
        "  def getMaxPrice(self):\n",
        "    return self.maxPrice\n",
        "\n",
        "  def getProfit(self):\n",
        "    return self.profit\n",
        "\n",
        "  def getTotalProfit(self):\n",
        "    return self.totalProfit\n",
        "\n",
        "  #######################################################################\n",
        "\n",
        "  # Team name functions\n",
        "\n",
        "  def getTeamName(self):\n",
        "    return self.teamName\n",
        "\n",
        "  ########################################################################\n",
        "\n",
        "  # Functions relating to the number of units sold\n",
        "\n",
        "  def setUnitsSold(self, unitsSold):\n",
        "    self.unitsSold = unitsSold\n",
        "\n",
        "  def getUnitsSold(self):\n",
        "    return self.unitsSold\n",
        "\n",
        "  ########################################################################\n",
        "\n",
        "  # Pricing-related methods\n",
        "\n",
        "  # Set price for a given team (while ensuring that we don't go above the maximum)\n",
        "  def setPrice(self, newPrice):\n",
        "    if newPrice > self.maxPrice: self.price = self.maxPrice\n",
        "    elif newPrice < self.minPrice: self.price = self.minPrice\n",
        "    else: self.price = newPrice\n",
        "\n",
        "  # Returns the current price for this team\n",
        "  def getPrice(self):\n",
        "    return self.price\n",
        "\n",
        "  # Figure out the price based upon the current period and pricing strategy.  Knowing the period is required for some strategies listed\n",
        "  def computePrice(self, period=0.0, givenPrice=50):\n",
        "    behavior = self.behaviorType\n",
        "    price = 0\n",
        "    # Apply the correct pricing strategy depending upon the player type\n",
        "    if behavior == \"RL\":\n",
        "      price = givenPrice\n",
        "    elif behavior == \"Standard\":\n",
        "      price = 65 - 5 * period\n",
        "    elif behavior == \"Walmart\":\n",
        "      price = 15\n",
        "    elif behavior == \"Panic\":\n",
        "      price = 80 - 10 * period\n",
        "    else:\n",
        "      price = 50\n",
        "    self.setPrice(price)\n",
        "\n",
        "  ########################################################\n",
        "\n",
        "  # Inventory-related methods\n",
        "  def setUnitsManufactured(self, unitsProduced):\n",
        "    self.unitsManufactured = unitsProduced\n",
        "\n",
        "  def computeInvCost(self):\n",
        "    holdingCost = max(self.holdingCost * (self.unitsManufactured - self.unitsSold), 0)\n",
        "    stockoutCost = max(self.stockoutCost * (self.unitsSold - self.unitsManufactured), 0)\n",
        "    invCost = holdingCost + stockoutCost\n",
        "    return invCost\n",
        "\n",
        "  ##########################################################\n",
        "\n",
        "  # Total Cost Computation\n",
        "  def computeTotalCost(self):\n",
        "    invCost = self.computeInvCost()\n",
        "    mfgCost = self.mfgUnitCost * self.unitsManufactured\n",
        "    fixedCost = self.fixedCost\n",
        "    totalCost = invCost + mfgCost + fixedCost\n",
        "    return totalCost\n",
        "\n",
        "  def computeRevenue(self):\n",
        "    revenue = min(self.unitsSold * self.price, self.unitsManufactured * self.price)\n",
        "    return revenue\n",
        "  \n",
        "  def computeProfit(self, unitsSold):\n",
        "    # First, update the number of units sold so that we can use it in later calcs\n",
        "    self.setUnitsSold(unitsSold)\n",
        "\n",
        "    revenue = self.computeRevenue()\n",
        "    cost = self.computeTotalCost()\n",
        "    self.profit = revenue - cost\n",
        "    self.totalProfit += self.profit\n",
        "\n",
        "  ###########################################################\n",
        "\n",
        "  def reset(self, minPrice=0, maxPrice=75, holdingCost=3, stockoutCost=20, mfgUnitCost=6, fixedCost=1500, startInv=0):\n",
        "\n",
        "    self.price = 0\n",
        "    self.unitsSold = 0\n",
        "    self.unitsManufactured = 0\n",
        "\n",
        "    self.profit = 0\n",
        "    self.totalProfit = 0\n",
        "'''"
      ],
      "execution_count": 0,
      "outputs": [
        {
          "output_type": "execute_result",
          "data": {
            "text/plain": [
              "'\\nclass Team():\\n  # Initialization method, behaviorType should specify how we should set the prices\\n  def __init__(self, teamName, behaviorType=\"0\", initCapacity=150, minPrice=0, maxPrice=75, holdingCost=3, stockoutCost=20, mfgUnitCost=6, fixedCost=1500):\\n    \\n    self.teamName = teamName\\n    self.behaviorType = behaviorType\\n\\n    self.capacity = initCapacity\\n    self.minPrice = minPrice\\n    self.maxPrice = maxPrice\\n\\n    self.holdingCost = holdingCost\\n    self.stockoutCost = stockoutCost\\n\\n    self.mfgUnitCost = mfgUnitCost\\n    self.fixedCost = fixedCost\\n\\n    self.price = 0\\n    self.unitsSold = 0\\n    self.unitsManufactured = 0\\n\\n    self.profit = 0\\n    self.totalProfit = 0\\n\\n  #######################################################################\\n\\n  # Basic \"GET\" functions for some important variables for our team\\n\\n  def getCapacity(self):\\n    return self.capacity\\n\\n  def getMinPrice(self):\\n    return self.minPrice\\n\\n  def getMaxPrice(self):\\n    return self.maxPrice\\n\\n  def getProfit(self):\\n    return self.profit\\n\\n  def getTotalProfit(self):\\n    return self.totalProfit\\n\\n  #######################################################################\\n\\n  # Team name functions\\n\\n  def getTeamName(self):\\n    return self.teamName\\n\\n  ########################################################################\\n\\n  # Functions relating to the number of units sold\\n\\n  def setUnitsSold(self, unitsSold):\\n    self.unitsSold = unitsSold\\n\\n  def getUnitsSold(self):\\n    return self.unitsSold\\n\\n  ########################################################################\\n\\n  # Pricing-related methods\\n\\n  # Set price for a given team (while ensuring that we don\\'t go above the maximum)\\n  def setPrice(self, newPrice):\\n    if newPrice > self.maxPrice: self.price = self.maxPrice\\n    elif newPrice < self.minPrice: self.price = self.minPrice\\n    else: self.price = newPrice\\n\\n  # Returns the current price for this team\\n  def getPrice(self):\\n    return self.price\\n\\n  # Figure out the price based upon the current period and pricing strategy.  Knowing the period is required for some strategies listed\\n  def computePrice(self, period=0.0, givenPrice=50):\\n    behavior = self.behaviorType\\n    price = 0\\n    # Apply the correct pricing strategy depending upon the player type\\n    if behavior == \"RL\":\\n      price = givenPrice\\n    elif behavior == \"Standard\":\\n      price = 65 - 5 * period\\n    elif behavior == \"Walmart\":\\n      price = 15\\n    elif behavior == \"Panic\":\\n      price = 80 - 10 * period\\n    else:\\n      price = 50\\n    self.setPrice(price)\\n\\n  ########################################################\\n\\n  # Inventory-related methods\\n  def setUnitsManufactured(self, unitsProduced):\\n    self.unitsManufactured = unitsProduced\\n\\n  def computeInvCost(self):\\n    holdingCost = max(self.holdingCost * (self.unitsManufactured - self.unitsSold), 0)\\n    stockoutCost = max(self.stockoutCost * (self.unitsSold - self.unitsManufactured), 0)\\n    invCost = holdingCost + stockoutCost\\n    return invCost\\n\\n  ##########################################################\\n\\n  # Total Cost Computation\\n  def computeTotalCost(self):\\n    invCost = self.computeInvCost()\\n    mfgCost = self.mfgUnitCost * self.unitsManufactured\\n    fixedCost = self.fixedCost\\n    totalCost = invCost + mfgCost + fixedCost\\n    return totalCost\\n\\n  def computeRevenue(self):\\n    revenue = min(self.unitsSold * self.price, self.unitsManufactured * self.price)\\n    return revenue\\n  \\n  def computeProfit(self, unitsSold):\\n    # First, update the number of units sold so that we can use it in later calcs\\n    self.setUnitsSold(unitsSold)\\n\\n    revenue = self.computeRevenue()\\n    cost = self.computeTotalCost()\\n    self.profit = revenue - cost\\n    self.totalProfit += self.profit\\n\\n  ###########################################################\\n\\n  def reset(self, minPrice=0, maxPrice=75, holdingCost=3, stockoutCost=20, mfgUnitCost=6, fixedCost=1500, startInv=0):\\n\\n    self.price = 0\\n    self.unitsSold = 0\\n    self.unitsManufactured = 0\\n\\n    self.profit = 0\\n    self.totalProfit = 0\\n'"
            ]
          },
          "metadata": {
            "tags": []
          },
          "execution_count": 3
        }
      ]
    },
    {
      "cell_type": "code",
      "metadata": {
        "id": "1GVPxAOPmgLM",
        "colab_type": "code",
        "outputId": "4efd3d31-9e45-4318-939e-06a947a21c50",
        "colab": {
          "base_uri": "https://localhost:8080/",
          "height": 53
        }
      },
      "source": [
        "'''\n",
        "The pattern we're going to want to follow is as follows:\n",
        "1. Allow teams to view the past market conditions, and time period\n",
        "2. Teams select and submit their prices and number of units manufactured\n",
        "3. We determine market demand based upon each team's prices\n",
        "4. Set the market demand for each team\n",
        "5. Compute each team's profit\n",
        "'''\n",
        "'''\n",
        "# Create a team, make period 1 decisions\n",
        "RLAgent = Team(teamName=\"chungus\", behaviorType=\"RL\")\n",
        "RLAgent.computePrice(givenPrice=.64 * 75)\n",
        "RLAgent.setUnitsManufactured(.3 * 150)\n",
        "\n",
        "#### Get the demand by splitting it up\n",
        "demand = 40\n",
        "RLAgent.computeProfit(demand)\n",
        "print(\"Period 1 profit: \" + str(RLAgent.getProfit()))\n",
        "\n",
        "\n",
        "RLAgent.computePrice(givenPrice=50)\n",
        "RLAgent.setUnitsManufactured(.35 * 150)\n",
        "demand = 50\n",
        "RLAgent.computeProfit(demand)\n",
        "print(\"Period 2 profit: \" + str(RLAgent.getProfit()))\n",
        "'''"
      ],
      "execution_count": 0,
      "outputs": [
        {
          "output_type": "execute_result",
          "data": {
            "text/plain": [
              "'\\n# Create a team, make period 1 decisions\\nRLAgent = Team(teamName=\"chungus\", behaviorType=\"RL\")\\nRLAgent.computePrice(givenPrice=.64 * 75)\\nRLAgent.setUnitsManufactured(.3 * 150)\\n\\n#### Get the demand by splitting it up\\ndemand = 40\\nRLAgent.computeProfit(demand)\\nprint(\"Period 1 profit: \" + str(RLAgent.getProfit()))\\n\\n\\nRLAgent.computePrice(givenPrice=50)\\nRLAgent.setUnitsManufactured(.35 * 150)\\ndemand = 50\\nRLAgent.computeProfit(demand)\\nprint(\"Period 2 profit: \" + str(RLAgent.getProfit()))\\n'"
            ]
          },
          "metadata": {
            "tags": []
          },
          "execution_count": 4
        }
      ]
    },
    {
      "cell_type": "code",
      "metadata": {
        "id": "tbzWfhNSA65a",
        "colab_type": "code",
        "colab": {}
      },
      "source": [
        ""
      ],
      "execution_count": 0,
      "outputs": []
    },
    {
      "cell_type": "code",
      "metadata": {
        "id": "9jaJesvbs4Gn",
        "colab_type": "code",
        "outputId": "cf4c2136-0ed3-48a9-9a6d-cf17ac499c60",
        "colab": {
          "base_uri": "https://localhost:8080/",
          "height": 104
        }
      },
      "source": [
        "class CustomEnv(gym.Env):\n",
        "\n",
        "  def __init__(self, INIT_BALANCE=0, discRate=0.02, maxPeriods=12):\n",
        "    super(CustomEnv, self).__init__()\n",
        "\n",
        "    self.action_space = spaces.Box(low=np.array([0, 0]), high=np.array([1, 1]), shape = (2,), dtype=np.float32) \n",
        "    self.observation_space = spaces.Box(low=np.array([0, -10000, 0, 0, 0, 0, 0]), high=np.array([6, 10000, 75, 75, 75, 75, 150]), shape=(7,), dtype=np.float32)\n",
        "\n",
        "    self.time = 1\n",
        "    self.maxPeriods = 4\n",
        "    self.reset()\n",
        "\n",
        "  def step(self, action):\n",
        "\n",
        "    agentPrice = action[0] * 75\n",
        "    unitsManufactured = action[1] * 150\n",
        "\n",
        "    otherTeamPrice = 65 - 5 * self.time\n",
        "    walmartTeamPrice = 15\n",
        "    panicTeamPrice = 80 - 10 * self.time\n",
        "\n",
        "    priceArr = [agentPrice, otherTeamPrice, walmartTeamPrice, panicTeamPrice]\n",
        "\n",
        "    meanPrice = statistics.mean(priceArr)\n",
        "    meanDemand = max((75 * len(priceArr)) - (len(priceArr) * meanPrice), 0)\n",
        "\n",
        "    totalDemand = meanDemand\n",
        "\n",
        "    demandPct = []\n",
        "    demandPct = self.weightedRank(priceArr)\n",
        "\n",
        "    agentOneDemand = demandPct[0] * totalDemand\n",
        "\n",
        "    revenue = min(agentOneDemand * agentPrice, unitsManufactured * agentPrice)\n",
        "\n",
        "    variableCost = unitsManufactured * 6\n",
        "    invCost = max(3 * (unitsManufactured - agentOneDemand), 0) + max(20 * (agentOneDemand - unitsManufactured), 0)\n",
        "    fixedCost = 1500\n",
        "    totalCost = variableCost + invCost + fixedCost\n",
        "\n",
        "    reward = revenue - totalCost    \n",
        "\n",
        "    self.state = np.array([self.time, reward, agentPrice, otherTeamPrice, walmartTeamPrice, panicTeamPrice, unitsManufactured]).astype(np.float32)\n",
        "    self.time +=1\n",
        "\n",
        "    return self.state, reward,self.time > self.maxPeriods,{}\n",
        "  \n",
        "  def reset(self):\n",
        "    self.state = np.array([0, 0, 0, 0, 0, 0, 0]).astype(np.float32)\n",
        "    self.time = 1\n",
        "    return self.state\n",
        "\n",
        "  def weightedRank(self, inputArray):\n",
        "    direction = -1\n",
        "    currArray = inputArray\n",
        "\n",
        "    # Standardize values\n",
        "    for i in range(len(currArray)):\n",
        "      if statistics.stdev(currArray) > 0:\n",
        "        currArray[i] = direction * (currArray[i] - statistics.mean(currArray)) / statistics.stdev(currArray)\n",
        "      else:\n",
        "        currArray[i] = 0\n",
        "\n",
        "    if min(currArray) < 1: currArray = [z + (1.1 - min(currArray)) for z in currArray]\n",
        "\n",
        "    for i in range(len(currArray)): currArray[i] = log(currArray[i])\n",
        "\n",
        "    # Conver the logged result into a percentage, then return the array\n",
        "    pctArray = []\n",
        "    for i in range(len(currArray)): pctArray.append(currArray[i] / sum(currArray))\n",
        "\n",
        "    return pctArray\n",
        "\n",
        "env = CustomEnv()\n",
        "check_env(env)    "
      ],
      "execution_count": 0,
      "outputs": [
        {
          "output_type": "stream",
          "text": [
            "/usr/local/lib/python3.6/dist-packages/gym/logger.py:30: UserWarning: \u001b[33mWARN: Box bound precision lowered by casting to float32\u001b[0m\n",
            "  warnings.warn(colorize('%s: %s'%('WARN', msg % args), 'yellow'))\n",
            "/usr/local/lib/python3.6/dist-packages/stable_baselines/common/env_checker.py:210: UserWarning: We recommend you to use a symmetric and normalized Box action space (range=[-1, 1]) cf https://stable-baselines.readthedocs.io/en/master/guide/rl_tips.html\n",
            "  warnings.warn(\"We recommend you to use a symmetric and normalized Box action space (range=[-1, 1]) \"\n"
          ],
          "name": "stderr"
        }
      ]
    },
    {
      "cell_type": "code",
      "metadata": {
        "id": "gvixXjr7Kduf",
        "colab_type": "code",
        "outputId": "a8a82894-531b-4a69-8e9b-2a0b42e77a26",
        "colab": {
          "base_uri": "https://localhost:8080/",
          "height": 217
        }
      },
      "source": [
        "game = CustomEnv()\n",
        "\n",
        "obs = game.reset()\n",
        "\n",
        "totalReward = 0\n",
        "\n",
        "n_steps = 20\n",
        "for step in range(n_steps):\n",
        "  print(\"Step {}\".format(step + 1))\n",
        "  #action = game.action_space.sample()\n",
        "  priceSet = 0.5\n",
        "  unitsMfg = 0.2\n",
        "  action = [priceSet, unitsMfg]\n",
        "  obs, reward, done, info = game.step(action)\n",
        "  print('obs=', obs, 'reward=', reward, 'action=', action,'done=', done)\n",
        "  totalReward += reward\n",
        "  if done:\n",
        "    print(\"Goal reached!\", \"reward=\", reward)\n",
        "    print(\"Total reward=\", totalReward)\n",
        "    break"
      ],
      "execution_count": 0,
      "outputs": [
        {
          "output_type": "stream",
          "text": [
            "Step 1\n",
            "obs= [   1.    -920.221   37.5     60.      15.      70.      30.   ] reward= -920.2209973803575 action= [0.5, 0.2] done= False\n",
            "Step 2\n",
            "obs= [   2.    -672.534   37.5     55.      15.      60.      30.   ] reward= -672.5344248284075 action= [0.5, 0.2] done= False\n",
            "Step 3\n",
            "obs= [   3.    -607.194   37.5     50.      15.      50.      30.   ] reward= -607.1938470394405 action= [0.5, 0.2] done= False\n",
            "Step 4\n",
            "obs= [   4.    -694.526   37.5     45.      15.      40.      30.   ] reward= -694.5258912919646 action= [0.5, 0.2] done= True\n",
            "Goal reached! reward= -694.5258912919646\n",
            "Total reward= -2894.47516054017\n"
          ],
          "name": "stdout"
        },
        {
          "output_type": "stream",
          "text": [
            "/usr/local/lib/python3.6/dist-packages/gym/logger.py:30: UserWarning: \u001b[33mWARN: Box bound precision lowered by casting to float32\u001b[0m\n",
            "  warnings.warn(colorize('%s: %s'%('WARN', msg % args), 'yellow'))\n"
          ],
          "name": "stderr"
        }
      ]
    },
    {
      "cell_type": "code",
      "metadata": {
        "id": "haqdOqeGqVe5",
        "colab_type": "code",
        "outputId": "6bbe099c-2333-4fb1-9bbb-476ff57dacf7",
        "colab": {
          "base_uri": "https://localhost:8080/",
          "height": 315
        }
      },
      "source": [
        "# Price/profit graphing code\n",
        "game = CustomEnv()\n",
        "\n",
        "rewardGained = []\n",
        "\n",
        "for j in np.arange(0, 1, 0.01):\n",
        "\n",
        "  obs = game.reset()\n",
        "\n",
        "  totalReward = 0\n",
        "\n",
        "  n_steps = 20\n",
        "  for step in range(n_steps):\n",
        "    price = j\n",
        "    unitsMfg = .7\n",
        "    action = [price, unitsMfg]\n",
        "    obs, reward, done, info = game.step(action)\n",
        "    #print('obs=', obs, 'reward=', reward, 'action=', action,'done=', done)\n",
        "    totalReward += reward\n",
        "    if done:\n",
        "      #print(\"Goal reached!\", \"reward=\", reward)\n",
        "      #print(\"Total reward=\", totalReward)\n",
        "      rewardGained.append(totalReward)\n",
        "      break\n",
        "plt.plot(rewardGained)"
      ],
      "execution_count": 0,
      "outputs": [
        {
          "output_type": "stream",
          "text": [
            "/usr/local/lib/python3.6/dist-packages/gym/logger.py:30: UserWarning: \u001b[33mWARN: Box bound precision lowered by casting to float32\u001b[0m\n",
            "  warnings.warn(colorize('%s: %s'%('WARN', msg % args), 'yellow'))\n"
          ],
          "name": "stderr"
        },
        {
          "output_type": "execute_result",
          "data": {
            "text/plain": [
              "[<matplotlib.lines.Line2D at 0x7f9be0b0ea58>]"
            ]
          },
          "metadata": {
            "tags": []
          },
          "execution_count": 76
        },
        {
          "output_type": "display_data",
          "data": {
            "image/png": "[encoded data removed]",
            "text/plain": [
              "<Figure size 432x288 with 1 Axes>"
            ]
          },
          "metadata": {
            "tags": [],
            "needs_background": "light"
          }
        }
      ]
    },
    {
      "cell_type": "code",
      "metadata": {
        "id": "-_uKN8DCdr5X",
        "colab_type": "code",
        "outputId": "869da87c-d48e-4132-ee8d-9286c5c114ea",
        "colab": {
          "base_uri": "https://localhost:8080/",
          "height": 315
        }
      },
      "source": [
        "# UnitsManufactured/profit graphing code\n",
        "game = CustomEnv()\n",
        "\n",
        "rwGained = []\n",
        "\n",
        "for i in np.arange(0, 1, 0.01):\n",
        "\n",
        "  obs = game.reset()\n",
        "\n",
        "  rTot = 0\n",
        "\n",
        "  n_steps = 20\n",
        "  for step in range(n_steps):\n",
        "    price = .5\n",
        "    unitsMfg = i\n",
        "    action = [price, unitsMfg]\n",
        "    obs, reward, done, info = game.step(action)\n",
        "    #print('obs=', obs, 'reward=', reward, 'action=', action,'done=', done)\n",
        "    rTot += reward\n",
        "    if done:\n",
        "      #print(\"Goal reached!\", \"reward=\", reward)\n",
        "      #print(\"Total reward=\", totalReward)\n",
        "      rwGained.append(rTot)\n",
        "      break\n",
        "plt.plot(rwGained)"
      ],
      "execution_count": 0,
      "outputs": [
        {
          "output_type": "stream",
          "text": [
            "/usr/local/lib/python3.6/dist-packages/gym/logger.py:30: UserWarning: \u001b[33mWARN: Box bound precision lowered by casting to float32\u001b[0m\n",
            "  warnings.warn(colorize('%s: %s'%('WARN', msg % args), 'yellow'))\n"
          ],
          "name": "stderr"
        },
        {
          "output_type": "execute_result",
          "data": {
            "text/plain": [
              "[<matplotlib.lines.Line2D at 0x7f9be0b35320>]"
            ]
          },
          "metadata": {
            "tags": []
          },
          "execution_count": 75
        },
        {
          "output_type": "display_data",
          "data": {
            "image/png": "[encoded data removed]",
            "text/plain": [
              "<Figure size 432x288 with 1 Axes>"
            ]
          },
          "metadata": {
            "tags": [],
            "needs_background": "light"
          }
        }
      ]
    },
    {
      "cell_type": "code",
      "metadata": {
        "id": "a5UbE2aO3TNx",
        "colab_type": "code",
        "outputId": "6d4f0c3f-e149-4c31-95b9-e69303d45a1c",
        "colab": {
          "base_uri": "https://localhost:8080/",
          "height": 50
        }
      },
      "source": [
        "game = CustomEnv()\n",
        "\n",
        "# Create the \"model\" for our RL\n",
        "model = TRPO(MlpPolicy, game, verbose=0)\n",
        "\n",
        "totalRewards = []"
      ],
      "execution_count": 0,
      "outputs": [
        {
          "output_type": "stream",
          "text": [
            "/usr/local/lib/python3.6/dist-packages/gym/logger.py:30: UserWarning: \u001b[33mWARN: Box bound precision lowered by casting to float32\u001b[0m\n",
            "  warnings.warn(colorize('%s: %s'%('WARN', msg % args), 'yellow'))\n"
          ],
          "name": "stderr"
        }
      ]
    },
    {
      "cell_type": "code",
      "metadata": {
        "id": "RfpJIevgeFuh",
        "colab_type": "code",
        "outputId": "1dfc60cc-a7c9-4c90-dc8d-c0508ec6864f",
        "colab": {
          "base_uri": "https://localhost:8080/",
          "height": 281
        }
      },
      "source": [
        "numDataPtsDesired = 150\n",
        "numTimeSteps = 50\n",
        "\n",
        "\n",
        "for i in range(numDataPtsDesired):\n",
        "  # Have the model learn for numTimeSteps more timesteps, and append the number of iterations to our list\n",
        "  model.learn(total_timesteps=numTimeSteps)\n",
        "\n",
        "  # Have the model run predictions for a new instance of the game to gather data on performance\n",
        "  done = False\n",
        "  obs = game.reset()\n",
        "\n",
        "  currRewardTot = 0\n",
        "\n",
        "  # Generate a prediction and then total up the rewards\n",
        "  while not done:\n",
        "    action, _states = model.predict(obs)\n",
        "    obs, rewards, done, info = game.step(action)\n",
        "    currRewardTot += rewards\n",
        "\n",
        "  totalRewards.append(currRewardTot)\n",
        "\n",
        "plt.plot(totalRewards)"
      ],
      "execution_count": 0,
      "outputs": [
        {
          "output_type": "execute_result",
          "data": {
            "text/plain": [
              "[<matplotlib.lines.Line2D at 0x7f9be0f9a198>]"
            ]
          },
          "metadata": {
            "tags": []
          },
          "execution_count": 97
        },
        {
          "output_type": "display_data",
          "data": {
            "image/png": "[encoded data removed]",
            "text/plain": [
              "<Figure size 432x288 with 1 Axes>"
            ]
          },
          "metadata": {
            "tags": [],
            "needs_background": "light"
          }
        }
      ]
    },
    {
      "cell_type": "code",
      "metadata": {
        "id": "bUn4meFtuQmS",
        "colab_type": "code",
        "outputId": "69d84a07-9b61-44c3-b28f-34f990fa9bfa",
        "colab": {
          "base_uri": "https://localhost:8080/",
          "height": 281
        }
      },
      "source": [
        "# My lazy way of saving plots that I like temporarily\n",
        "plt.plot(totalRewards)"
      ],
      "execution_count": 0,
      "outputs": [
        {
          "output_type": "execute_result",
          "data": {
            "text/plain": [
              "[<matplotlib.lines.Line2D at 0x7f9be4e68fd0>]"
            ]
          },
          "metadata": {
            "tags": []
          },
          "execution_count": 98
        },
        {
          "output_type": "display_data",
          "data": {
            "image/png": "[encoded data removed]",
            "text/plain": [
              "<Figure size 432x288 with 1 Axes>"
            ]
          },
          "metadata": {
            "tags": [],
            "needs_background": "light"
          }
        }
      ]
    },
    {
      "cell_type": "code",
      "metadata": {
        "id": "lFi7E3YM8PQL",
        "colab_type": "code",
        "colab": {}
      },
      "source": [
        "#model = TRPO(MlpPolicy, game, verbose=1)\n",
        "#model.learn(total_timesteps=50000)"
      ],
      "execution_count": 0,
      "outputs": []
    },
    {
      "cell_type": "code",
      "metadata": {
        "id": "I-T3-PHDQgcD",
        "colab_type": "code",
        "outputId": "3d75a145-a03a-4af2-cb0a-0112fdc4f1bb",
        "colab": {
          "base_uri": "https://localhost:8080/",
          "height": 217
        }
      },
      "source": [
        "# Test the model to see how it performs\n",
        "\n",
        "dones = False\n",
        "obs = game.reset()\n",
        "while not dones:\n",
        "  action, _states = model.predict(obs)\n",
        "  obs, rewards, dones, info = game.step(action)\n",
        "  print(action)\n",
        "  print(obs)\n",
        "  print(rewards)"
      ],
      "execution_count": 0,
      "outputs": [
        {
          "output_type": "stream",
          "text": [
            "[0.778 0.223]\n",
            "[ 1.    97.81  58.372 60.    15.    70.    33.511]\n",
            "97.810033970816\n",
            "[0.744 0.31 ]\n",
            "[  2.    167.59   55.765  55.     15.     60.     46.49 ]\n",
            "167.59016912776337\n",
            "[0.705 0.349]\n",
            "[  3.    225.009  52.903  50.     15.     50.     52.295]\n",
            "225.00901541996063\n",
            "[0.657 0.36 ]\n",
            "[  4.    238.478  49.257  45.     15.     40.     53.983]\n",
            "238.4784113829744\n"
          ],
          "name": "stdout"
        }
      ]
    },
    {
      "cell_type": "code",
      "metadata": {
        "id": "zYHunVA80eQI",
        "colab_type": "code",
        "outputId": "d4aa75a5-ff34-48e4-c5d9-90ae12753dfc",
        "colab": {
          "base_uri": "https://localhost:8080/",
          "height": 86
        }
      },
      "source": [
        "#game.weightedRank([70, 60, 15, 70])"
      ],
      "execution_count": 0,
      "outputs": [
        {
          "output_type": "execute_result",
          "data": {
            "text/plain": [
              "[0.050690329999932976,\n",
              " 0.22954492710415925,\n",
              " 0.6690744128959747,\n",
              " 0.050690329999932976]"
            ]
          },
          "metadata": {
            "tags": []
          },
          "execution_count": 23
        }
      ]
    },
    {
      "cell_type": "code",
      "metadata": {
        "id": "8SV9gSEA-1Ei",
        "colab_type": "code",
        "colab": {}
      },
      "source": [
        ""
      ],
      "execution_count": 0,
      "outputs": []
    },
    {
      "cell_type": "code",
      "metadata": {
        "id": "1gtKCgM3tjQ-",
        "colab_type": "code",
        "colab": {}
      },
      "source": [
        "# Test the model to see how it performs\n",
        "\n",
        "rewRecord = []\n",
        "\n",
        "dataPts = 250\n",
        "prices = [[0 for x in range(game.maxPeriods)] for y in range(dataPts)]\n",
        "qtyOrdered = [[0 for x in range(game.maxPeriods)] for y in range(dataPts)]\n",
        "\n",
        "\n",
        "for i in range(dataPts):\n",
        "  dones = False\n",
        "  obs = game.reset()\n",
        "  thisGameReward = 0.0\n",
        "  counter = 0\n",
        "\n",
        "  while not dones:\n",
        "    action, _states = model.predict(obs)\n",
        "\n",
        "    prices[i][counter] = action[0] * 75\n",
        "    qtyOrdered[i][counter] = action[1] * 150\n",
        "\n",
        "    obs, rewards, dones, info = game.step(action)\n",
        "    thisGameReward += rewards\n",
        "    #print(action)\n",
        "    #print(obs)\n",
        "    #print(rewards)\n",
        "    counter += 1\n",
        "  rewRecord.append(thisGameReward)\n",
        "prices = np.array(prices)\n",
        "qtyOrdered = np.array(qtyOrdered)"
      ],
      "execution_count": 0,
      "outputs": []
    },
    {
      "cell_type": "code",
      "metadata": {
        "id": "un4qdM1RuQzX",
        "colab_type": "code",
        "outputId": "c2acda4a-b62a-44a1-e6d3-701ba97782f1",
        "colab": {
          "base_uri": "https://localhost:8080/",
          "height": 257
        }
      },
      "source": [
        "# Create a reward histogram\n",
        "\n",
        "print(\"Reward mean (sum of all period rewards) is: \" + str(statistics.mean(rewRecord)))\n",
        "print(\"Reward stDev is: \" + str(statistics.stdev(rewRecord)))\n",
        "\n",
        "ax = sns.pairplot(pd.DataFrame(rewRecord))\n",
        "ax.set(title=\"Reward Histogram\", xlabel='Reward', ylabel='Frequency')\n",
        "plt.show()"
      ],
      "execution_count": 0,
      "outputs": [
        {
          "output_type": "stream",
          "text": [
            "Reward mean (sum of all period rewards) is: 546.3199925971699\n",
            "Reward stDev is: 297.26638240994987\n"
          ],
          "name": "stdout"
        },
        {
          "output_type": "display_data",
          "data": {
            "image/png": "[encoded data removed]",
            "text/plain": [
              "<Figure size 180x180 with 2 Axes>"
            ]
          },
          "metadata": {
            "tags": [],
            "needs_background": "light"
          }
        }
      ]
    },
    {
      "cell_type": "code",
      "metadata": {
        "id": "sDeH-8NfwmNH",
        "colab_type": "code",
        "outputId": "55f17836-8770-4f37-b376-4ed349dc96dd",
        "colab": {
          "base_uri": "https://localhost:8080/",
          "height": 496
        }
      },
      "source": [
        "# Pd 0 pricing pairplot\n",
        "currPeriodPrice = prices[:,0]\n",
        "print(\"Mean price for Pd 0: \" + str(statistics.mean(currPeriodPrice)))\n",
        "print(\"price Standad Deviation for Pd 0: \" + str(statistics.stdev(currPeriodPrice)))\n",
        "ax = sns.pairplot(pd.DataFrame(currPeriodPrice))\n",
        "ax.set(title=\"Pd 0 Price Histogram\", xlabel='Price', ylabel='Frequency')\n",
        "plt.show()\n",
        "\n",
        "# Pd 0 qtyOrdered pairplot\n",
        "currPdQty = qtyOrdered[:,0]\n",
        "print(\"Mean qtyOrdered for Pd 0: \" + str(statistics.mean(currPdQty)))\n",
        "print(\"qtyOrdered Standad Deviation for Pd 0: \" + str(statistics.stdev(currPdQty)))\n",
        "ax = sns.pairplot(pd.DataFrame(currPdQty))\n",
        "ax.set(title=\"Pd 0 Qty Ordered Histogram\", xlabel='Units Ordered', ylabel='Frequency')\n",
        "plt.show()"
      ],
      "execution_count": 0,
      "outputs": [
        {
          "output_type": "stream",
          "text": [
            "Mean price for Pd 0: 55.31733049750328\n",
            "price Standad Deviation for Pd 0: 4.356609086064586\n"
          ],
          "name": "stdout"
        },
        {
          "output_type": "display_data",
          "data": {
            "image/png": "[encoded data removed]",
            "text/plain": [
              "<Figure size 180x180 with 2 Axes>"
            ]
          },
          "metadata": {
            "tags": [],
            "needs_background": "light"
          }
        },
        {
          "output_type": "stream",
          "text": [
            "Mean qtyOrdered for Pd 0: 36.19861995577812\n",
            "qtyOrdered Standad Deviation for Pd 0: 3.3434282335553007\n"
          ],
          "name": "stdout"
        },
        {
          "output_type": "display_data",
          "data": {
            "image/png": "[encoded data removed]",
            "text/plain": [
              "<Figure size 180x180 with 2 Axes>"
            ]
          },
          "metadata": {
            "tags": [],
            "needs_background": "light"
          }
        }
      ]
    },
    {
      "cell_type": "code",
      "metadata": {
        "id": "43_HD4o4xi9G",
        "colab_type": "code",
        "outputId": "08fb8d8e-309f-4875-cc59-c24e1adf0382",
        "colab": {
          "base_uri": "https://localhost:8080/",
          "height": 496
        }
      },
      "source": [
        "# Pd 1 pricing pairplot\n",
        "currPeriodPrice = prices[:,1]\n",
        "print(\"Mean price for Pd 1: \" + str(statistics.mean(currPeriodPrice)))\n",
        "print(\"price Standad Deviation for Pd 1: \" + str(statistics.stdev(currPeriodPrice)))\n",
        "ax = sns.pairplot(pd.DataFrame(currPeriodPrice))\n",
        "ax.set(title=\"Pd 1 Price Histogram\", xlabel='Price', ylabel='Frequency')\n",
        "plt.show()\n",
        "\n",
        "# Pd 1 qtyOrdered pairplot\n",
        "currPdQty = qtyOrdered[:,1]\n",
        "print(\"Mean qtyOrdered for Pd 1: \" + str(statistics.mean(currPdQty)))\n",
        "print(\"qtyOrdered Standad Deviation for Pd 1: \" + str(statistics.stdev(currPdQty)))\n",
        "ax = sns.pairplot(pd.DataFrame(currPdQty))\n",
        "ax.set(title=\"Pd 1 Qty Ordered Histogram\", xlabel='Units Ordered', ylabel='Frequency')\n",
        "plt.show()"
      ],
      "execution_count": 0,
      "outputs": [
        {
          "output_type": "stream",
          "text": [
            "Mean price for Pd 1: 61.61046862006187\n",
            "price Standad Deviation for Pd 1: 11.24080619667257\n"
          ],
          "name": "stdout"
        },
        {
          "output_type": "display_data",
          "data": {
            "image/png": "[encoded data removed]",
            "text/plain": [
              "<Figure size 180x180 with 2 Axes>"
            ]
          },
          "metadata": {
            "tags": [],
            "needs_background": "light"
          }
        },
        {
          "output_type": "stream",
          "text": [
            "Mean qtyOrdered for Pd 1: 43.13083529770374\n",
            "qtyOrdered Standad Deviation for Pd 1: 4.698304468549382\n"
          ],
          "name": "stdout"
        },
        {
          "output_type": "display_data",
          "data": {
            "image/png": "[encoded data removed]",
            "text/plain": [
              "<Figure size 180x180 with 2 Axes>"
            ]
          },
          "metadata": {
            "tags": [],
            "needs_background": "light"
          }
        }
      ]
    },
    {
      "cell_type": "code",
      "metadata": {
        "id": "9PWb2eNtzdGU",
        "colab_type": "code",
        "outputId": "c2581670-b28c-4b86-c9fa-5543aae26ed3",
        "colab": {
          "base_uri": "https://localhost:8080/",
          "height": 496
        }
      },
      "source": [
        "# Pd 2 pricing pairplot\n",
        "currPeriodPrice = prices[:,2]\n",
        "print(\"Mean price for Pd 2: \" + str(statistics.mean(currPeriodPrice)))\n",
        "print(\"price Standad Deviation for Pd 2: \" + str(statistics.stdev(currPeriodPrice)))\n",
        "ax = sns.pairplot(pd.DataFrame(currPeriodPrice))\n",
        "ax.set(title=\"Pd 2 Price Histogram\", xlabel='Price', ylabel='Frequency')\n",
        "plt.show()\n",
        "\n",
        "# Pd 2 qtyOrdered pairplot\n",
        "currPdQty = qtyOrdered[:,2]\n",
        "print(\"Mean qtyOrdered for Pd 2: \" + str(statistics.mean(currPdQty)))\n",
        "print(\"qtyOrdered Standad Deviation for Pd 2: \" + str(statistics.stdev(currPdQty)))\n",
        "ax = sns.pairplot(pd.DataFrame(currPdQty))\n",
        "ax.set(title=\"Pd 2 Qty Ordered Histogram\", xlabel='Units Ordered', ylabel='Frequency')\n",
        "plt.show()"
      ],
      "execution_count": 0,
      "outputs": [
        {
          "output_type": "stream",
          "text": [
            "Mean price for Pd 2: 49.813574373722076\n",
            "price Standad Deviation for Pd 2: 7.720640997600375\n"
          ],
          "name": "stdout"
        },
        {
          "output_type": "display_data",
          "data": {
            "image/png": "[encoded data removed]",
            "text/plain": [
              "<Figure size 180x180 with 2 Axes>"
            ]
          },
          "metadata": {
            "tags": [],
            "needs_background": "light"
          }
        },
        {
          "output_type": "stream",
          "text": [
            "Mean qtyOrdered for Pd 2: 50.533953407406806\n",
            "qtyOrdered Standad Deviation for Pd 2: 5.301488846335426\n"
          ],
          "name": "stdout"
        },
        {
          "output_type": "display_data",
          "data": {
            "image/png": "[encoded data removed]",
            "text/plain": [
              "<Figure size 180x180 with 2 Axes>"
            ]
          },
          "metadata": {
            "tags": [],
            "needs_background": "light"
          }
        }
      ]
    },
    {
      "cell_type": "code",
      "metadata": {
        "id": "75sNO8a_zfpv",
        "colab_type": "code",
        "outputId": "af6b671d-6dca-4b52-e4bd-88de4c5262dc",
        "colab": {
          "base_uri": "https://localhost:8080/",
          "height": 496
        }
      },
      "source": [
        "# Pd 3 pricing pairplot\n",
        "currPeriodPrice = prices[:,3]\n",
        "print(\"Mean price for Pd 3: \" + str(statistics.mean(currPeriodPrice)))\n",
        "print(\"price Standad Deviation for Pd 3: \" + str(statistics.stdev(currPeriodPrice)))\n",
        "ax = sns.pairplot(pd.DataFrame(currPeriodPrice))\n",
        "ax.set(title=\"Pd 3 Price Histogram\", xlabel='Price', ylabel='Frequency')\n",
        "plt.show()\n",
        "\n",
        "# Pd 1 qtyOrdered pairplot\n",
        "currPdQty = qtyOrdered[:,3]\n",
        "print(\"Mean qtyOrdered for Pd 3: \" + str(statistics.mean(currPdQty)))\n",
        "print(\"qtyOrdered Standad Deviation for Pd 3: \" + str(statistics.stdev(currPdQty)))\n",
        "ax = sns.pairplot(pd.DataFrame(currPdQty))\n",
        "ax.set(title=\"Pd 3 Qty Ordered Histogram\", xlabel='Units Ordered', ylabel='Frequency')\n",
        "plt.show()"
      ],
      "execution_count": 0,
      "outputs": [
        {
          "output_type": "stream",
          "text": [
            "Mean price for Pd 3: 48.29736401438713\n",
            "price Standad Deviation for Pd 3: 5.993757145617786\n"
          ],
          "name": "stdout"
        },
        {
          "output_type": "display_data",
          "data": {
            "image/png": "[encoded data removed]",
            "text/plain": [
              "<Figure size 180x180 with 2 Axes>"
            ]
          },
          "metadata": {
            "tags": [],
            "needs_background": "light"
          }
        },
        {
          "output_type": "stream",
          "text": [
            "Mean qtyOrdered for Pd 3: 51.127069026231766\n",
            "qtyOrdered Standad Deviation for Pd 3: 4.354840468662581\n"
          ],
          "name": "stdout"
        },
        {
          "output_type": "display_data",
          "data": {
            "image/png": "[encoded data removed]",
            "text/plain": [
              "<Figure size 180x180 with 2 Axes>"
            ]
          },
          "metadata": {
            "tags": [],
            "needs_background": "light"
          }
        }
      ]
    }
  ]
}